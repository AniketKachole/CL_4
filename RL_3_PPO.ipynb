{
 "cells": [
  {
   "cell_type": "markdown",
   "metadata": {
    "id": "1bnowSCgLwmO"
   },
   "source": [
    "## Implementation of PPO"
   ]
  },
  {
   "cell_type": "markdown",
   "metadata": {
    "id": "5u3BR50kLwmO"
   },
   "source": [
    "Now, let's implement PPO. Since two algorithms are very similar, we can use the same codes from the previous notebook in many parts. Below, I copied the same codes from this notebook (although there might be small differences such as variable names). To be consistent, let's use the same environment 'PoleCartPole-v0' in this notebook too."
   ]
  },
  {
   "cell_type": "code",
   "execution_count": null,
   "metadata": {
    "id": "fKbq_DJQLwmO"
   },
   "outputs": [],
   "source": [
    "# Import packages\n",
    "import sys\n",
    "import os\n",
    "\n",
    "import gymnasium as gym\n",
    "import numpy as np\n",
    "import matplotlib.pyplot as plt\n",
    "\n",
    "import tqdm\n",
    "\n",
    "import torch\n",
    "import torch.optim as optim\n",
    "from torch.autograd import Variable\n",
    "import torch.nn.functional as F\n",
    "import torch.nn as nn\n",
    "\n",
    "from IPython.display import clear_output\n",
    "from IPython import display\n",
    "\n",
    "%matplotlib inline\n",
    "\n",
    "# check and use GPU if available if not use CPU\n",
    "device = torch.device(\"cuda\" if torch.cuda.is_available() else \"cpu\")\n"
   ]
  },
  {
   "cell_type": "code",
   "execution_count": null,
   "metadata": {
    "colab": {
     "base_uri": "https://localhost:8080/"
    },
    "id": "Uk6K1AVQL3uA",
    "outputId": "9454af82-ee08-46ac-b6a0-268169cea0ae"
   },
   "outputs": [
    {
     "name": "stdout",
     "output_type": "stream",
     "text": [
      "Collecting gymnasium\n",
      "  Downloading gymnasium-0.29.1-py3-none-any.whl (953 kB)\n",
      "\u001b[2K     \u001b[90m━━━━━━━━━━━━━━━━━━━━━━━━━━━━━━━━━━━━━━━━\u001b[0m \u001b[32m953.9/953.9 kB\u001b[0m \u001b[31m6.0 MB/s\u001b[0m eta \u001b[36m0:00:00\u001b[0m\n",
      "\u001b[?25hRequirement already satisfied: numpy>=1.21.0 in /usr/local/lib/python3.10/dist-packages (from gymnasium) (1.25.2)\n",
      "Requirement already satisfied: cloudpickle>=1.2.0 in /usr/local/lib/python3.10/dist-packages (from gymnasium) (2.2.1)\n",
      "Requirement already satisfied: typing-extensions>=4.3.0 in /usr/local/lib/python3.10/dist-packages (from gymnasium) (4.11.0)\n",
      "Collecting farama-notifications>=0.0.1 (from gymnasium)\n",
      "  Downloading Farama_Notifications-0.0.4-py3-none-any.whl (2.5 kB)\n",
      "Installing collected packages: farama-notifications, gymnasium\n",
      "Successfully installed farama-notifications-0.0.4 gymnasium-0.29.1\n"
     ]
    }
   ],
   "source": [
    "!pip install gymnasium"
   ]
  },
  {
   "cell_type": "code",
   "execution_count": null,
   "metadata": {
    "id": "SPeloCxJLwmP"
   },
   "outputs": [],
   "source": [
    "# CODE from another notebook\n",
    "class NeuralNet(torch.nn.Module):\n",
    "    def __init__(self, input_size, output_size, activation, layers=[32,32,16]):\n",
    "        super().__init__()\n",
    "\n",
    "        # Define layers with ReLU activation\n",
    "        self.linear1 = torch.nn.Linear(input_size, layers[0])\n",
    "        self.activation1 = torch.nn.ReLU()\n",
    "        self.linear2 = torch.nn.Linear(layers[0], layers[1])\n",
    "        self.activation2 = torch.nn.ReLU()\n",
    "        self.linear3 = torch.nn.Linear(layers[1], layers[2])\n",
    "        self.activation3 = torch.nn.ReLU()\n",
    "\n",
    "        self.output_layer = torch.nn.Linear(layers[2], output_size)\n",
    "        self.output_activation = activation\n",
    "\n",
    "        # Initialization using Xavier normal (a popular technique for initializing weights in NNs)\n",
    "        torch.nn.init.xavier_normal_(self.linear1.weight)\n",
    "        torch.nn.init.xavier_normal_(self.linear2.weight)\n",
    "        torch.nn.init.xavier_normal_(self.linear3.weight)\n",
    "        torch.nn.init.xavier_normal_(self.output_layer.weight)\n",
    "\n",
    "    def forward(self, inputs):\n",
    "        # Forward pass through the layers\n",
    "        x = self.activation1(self.linear1(inputs))\n",
    "        x = self.activation2(self.linear2(x))\n",
    "        x = self.activation3(self.linear3(x))\n",
    "        x = self.output_activation(self.output_layer(x))\n",
    "        return x\n",
    "\n",
    "\n",
    "def generate_single_episode(env, policy_net):\n",
    "    \"\"\"\n",
    "    Generates an episode by executing the current policy in the given env\n",
    "    \"\"\"\n",
    "    states = []\n",
    "    actions = []\n",
    "    rewards = []\n",
    "    log_probs = []\n",
    "    max_t = 1000 # max horizon within one episode\n",
    "    state, _ = env.reset()\n",
    "\n",
    "    for t in range(max_t):\n",
    "        state = torch.from_numpy(state).float().unsqueeze(0)\n",
    "        probs = policy_net.forward(Variable(state)) # get each action choice probability with the current policy network\n",
    "        action = np.random.choice(env.action_space.n, p=np.squeeze(probs.detach().numpy())) # probablistic\n",
    "        # action = np.argmax(probs.detach().numpy()) # greedy\n",
    "\n",
    "        # compute the log_prob to use this in parameter update\n",
    "        log_prob = torch.log(probs.squeeze(0)[action])\n",
    "\n",
    "        # append values\n",
    "        states.append(state)\n",
    "        actions.append(action)\n",
    "        log_probs.append(log_prob)\n",
    "\n",
    "        # take a selected action\n",
    "        state, reward, terminated, truncated, _ = env.step(action)\n",
    "        rewards.append(reward)\n",
    "\n",
    "        if terminated | truncated:\n",
    "            break\n",
    "\n",
    "    return states, actions, rewards, log_probs\n",
    "\n",
    "\n",
    "def evaluate_policy(env, policy_net):\n",
    "    \"\"\"\n",
    "    Compute accumulative trajectory reward\n",
    "    \"\"\"\n",
    "    states, actions, rewards, log_probs = generate_single_episode(env, policy_net)\n",
    "    return np.sum(rewards)\n"
   ]
  },
  {
   "cell_type": "markdown",
   "metadata": {
    "id": "fKb-8qgKLwmP"
   },
   "source": [
    "We use NeuralNet class to define policy and value networks. We use generate_single_episode function to generate training data by following the current policy. evaluate_policy function helps us to evaluate the performance of the current policy. There implementations are the same as REINFOREMENT with baseline.\n",
    "\n",
    "Now, to implement PPO, we modify the implementation of train function. We will implement the for loop for epochs as well as the clipped objective as below."
   ]
  },
  {
   "cell_type": "code",
   "execution_count": null,
   "metadata": {
    "id": "3ig0P4qbLwmP"
   },
   "outputs": [],
   "source": [
    "def train_PPO(env, policy_net, policy_optimizer, value_net, value_optimizer, num_epochs, clip_val=0.2, gamma=0.99):\n",
    "    \"\"\"\n",
    "    Trains the policy network on a single episode using REINFORCE with baseline\n",
    "    \"\"\"\n",
    "\n",
    "    # Generate an episode with the current policy network\n",
    "    states, actions, rewards, log_probs = generate_single_episode(env, policy_net)\n",
    "    T = len(states)\n",
    "\n",
    "    # Create tensors\n",
    "    states = np.vstack(states).astype(float)\n",
    "    states = torch.FloatTensor(states).to(device)\n",
    "    actions = torch.LongTensor(actions).to(device).view(-1,1)\n",
    "    rewards = torch.FloatTensor(rewards).to(device).view(-1,1)\n",
    "    log_probs = torch.FloatTensor(log_probs).to(device).view(-1,1)\n",
    "\n",
    "    # Compute total discounted return at each time step\n",
    "    Gs = []\n",
    "    G = 0\n",
    "    for t in range(T-1,-1,-1): # iterate in backward order to make the computation easier\n",
    "        G = rewards[t] + gamma*G\n",
    "        Gs.insert(0,G)\n",
    "    Gs = torch.tensor(Gs).view(-1,1)\n",
    "\n",
    "    # Compute the advantage\n",
    "    state_vals = value_net(states).to(device)\n",
    "    with torch.no_grad():\n",
    "        A_k = Gs - state_vals\n",
    "\n",
    "    for _ in range(num_epochs):\n",
    "        V = value_net(states).to(device)\n",
    "\n",
    "        # Calculate probability of each action under the updated policy\n",
    "        probs = policy_net.forward(states).to(device)\n",
    "\n",
    "        # compute the log_prob to use it in parameter update\n",
    "        curr_log_probs = torch.log(torch.gather(probs, 1, actions)) # Use torch.gather(A,1,B) to select columns from A based on indices in B\n",
    "\n",
    "        # Calculate ratios r(theta)\n",
    "        ratios = torch.exp(curr_log_probs - log_probs)\n",
    "\n",
    "        # Calculate two surrogate loss terms in cliped loss\n",
    "        surr1 = ratios * A_k\n",
    "        surr2 = torch.clamp(ratios, 1-clip_val, 1+clip_val) * A_k\n",
    "\n",
    "        # Calculate clipped loss value\n",
    "        actor_loss = (-torch.min(surr1, surr2)).mean() # Need negative sign to run Gradient Ascent\n",
    "\n",
    "        # Update policy network\n",
    "        policy_optimizer.zero_grad()\n",
    "        actor_loss.backward(retain_graph=True)\n",
    "        policy_optimizer.step()\n",
    "\n",
    "        # Update value net\n",
    "        critic_loss = nn.MSELoss()(V, Gs)\n",
    "        value_optimizer.zero_grad()\n",
    "        critic_loss.backward()\n",
    "        value_optimizer.step()\n",
    "\n",
    "    return policy_net, value_net\n",
    "\n"
   ]
  },
  {
   "cell_type": "markdown",
   "metadata": {
    "id": "FHwCEfNeLwmP"
   },
   "source": [
    "Okay, now we are ready to run PPO. Let's try running this algorithm."
   ]
  },
  {
   "cell_type": "code",
   "execution_count": null,
   "metadata": {
    "colab": {
     "base_uri": "https://localhost:8080/",
     "height": 1000
    },
    "id": "DMcZP_r5LwmP",
    "outputId": "ffe2d7b8-f456-4703-b015-d2d4bb09ba2b"
   },
   "outputs": [
    {
     "name": "stderr",
     "output_type": "stream",
     "text": [
      "\r",
      "  0%|          | 0/5 [00:00<?, ?it/s]/usr/local/lib/python3.10/dist-packages/torch/nn/modules/module.py:1511: UserWarning: Implicit dimension choice for softmax has been deprecated. Change the call to include dim=X as an argument.\n",
      "  return self._call_impl(*args, **kwargs)\n"
     ]
    },
    {
     "name": "stdout",
     "output_type": "stream",
     "text": [
      "Episode: 0\n",
      "The avg. test reward for episode 0 is 15.45 with std of 6.359834903517543.\n",
      "Episode: 50\n",
      "The avg. test reward for episode 50 is 12.55 with std of 2.801338965566288.\n",
      "Episode: 100\n",
      "The avg. test reward for episode 100 is 23.4 with std of 6.575712889109439.\n",
      "Episode: 150\n",
      "The avg. test reward for episode 150 is 24.85 with std of 6.505958807124435.\n",
      "Episode: 200\n",
      "The avg. test reward for episode 200 is 62.95 with std of 24.237316270577484.\n",
      "Episode: 250\n",
      "The avg. test reward for episode 250 is 34.55 with std of 6.152032184571208.\n",
      "Episode: 300\n",
      "The avg. test reward for episode 300 is 32.05 with std of 5.6786882288077765.\n",
      "Episode: 350\n",
      "The avg. test reward for episode 350 is 46.1 with std of 11.130588483993108.\n",
      "Episode: 400\n",
      "The avg. test reward for episode 400 is 60.5 with std of 31.015318795717707.\n",
      "Episode: 450\n",
      "The avg. test reward for episode 450 is 49.9 with std of 11.886547017532047.\n",
      "Episode: 500\n",
      "The avg. test reward for episode 500 is 44.25 with std of 12.036922364126138.\n",
      "Episode: 550\n",
      "The avg. test reward for episode 550 is 62.2 with std of 33.754407119663654.\n",
      "Episode: 600\n",
      "The avg. test reward for episode 600 is 44.2 with std of 10.805554127392078.\n",
      "Episode: 650\n",
      "The avg. test reward for episode 650 is 58.65 with std of 32.00199212549119.\n",
      "Episode: 700\n",
      "The avg. test reward for episode 700 is 67.95 with std of 40.43201083300211.\n",
      "Episode: 750\n",
      "The avg. test reward for episode 750 is 73.75 with std of 37.1831615116305.\n",
      "Episode: 800\n",
      "The avg. test reward for episode 800 is 61.7 with std of 19.631861857704685.\n",
      "Episode: 850\n",
      "The avg. test reward for episode 850 is 60.45 with std of 36.672162466917605.\n",
      "Episode: 900\n",
      "The avg. test reward for episode 900 is 82.05 with std of 38.49866880815492.\n",
      "Episode: 950\n",
      "The avg. test reward for episode 950 is 78.65 with std of 39.660150024930566.\n"
     ]
    },
    {
     "name": "stderr",
     "output_type": "stream",
     "text": [
      "\r",
      " 20%|██        | 1/5 [01:09<04:36, 69.10s/it]"
     ]
    },
    {
     "name": "stdout",
     "output_type": "stream",
     "text": [
      "Episode: 0\n",
      "The avg. test reward for episode 0 is 15.85 with std of 5.002749244165652.\n",
      "Episode: 50\n",
      "The avg. test reward for episode 50 is 9.4 with std of 0.8602325267042626.\n",
      "Episode: 100\n",
      "The avg. test reward for episode 100 is 9.6 with std of 0.8602325267042626.\n",
      "Episode: 150\n",
      "The avg. test reward for episode 150 is 9.25 with std of 0.7664854858377946.\n",
      "Episode: 200\n",
      "The avg. test reward for episode 200 is 9.25 with std of 0.9420721840708386.\n",
      "Episode: 250\n",
      "The avg. test reward for episode 250 is 9.5 with std of 0.5.\n",
      "Episode: 300\n",
      "The avg. test reward for episode 300 is 9.15 with std of 0.7921489758877431.\n",
      "Episode: 350\n",
      "The avg. test reward for episode 350 is 9.35 with std of 0.7262919523166975.\n",
      "Episode: 400\n",
      "The avg. test reward for episode 400 is 9.15 with std of 0.7262919523166976.\n",
      "Episode: 450\n",
      "The avg. test reward for episode 450 is 9.15 with std of 0.7262919523166976.\n",
      "Episode: 500\n",
      "The avg. test reward for episode 500 is 9.25 with std of 0.698212002188447.\n",
      "Episode: 550\n",
      "The avg. test reward for episode 550 is 9.3 with std of 0.8426149773176358.\n",
      "Episode: 600\n",
      "The avg. test reward for episode 600 is 9.45 with std of 0.739932429347437.\n",
      "Episode: 650\n",
      "The avg. test reward for episode 650 is 9.35 with std of 0.7262919523166976.\n",
      "Episode: 700\n",
      "The avg. test reward for episode 700 is 9.05 with std of 0.8046738469715541.\n",
      "Episode: 750\n",
      "The avg. test reward for episode 750 is 9.2 with std of 0.6782329983125268.\n",
      "Episode: 800\n",
      "The avg. test reward for episode 800 is 9.3 with std of 0.6403124237432849.\n",
      "Episode: 850\n",
      "The avg. test reward for episode 850 is 9.35 with std of 0.7921489758877431.\n",
      "Episode: 900\n",
      "The avg. test reward for episode 900 is 9.1 with std of 0.7000000000000001.\n",
      "Episode: 950\n",
      "The avg. test reward for episode 950 is 9.25 with std of 0.698212002188447.\n"
     ]
    },
    {
     "name": "stderr",
     "output_type": "stream",
     "text": [
      "\r",
      " 40%|████      | 2/5 [01:53<02:43, 54.42s/it]"
     ]
    },
    {
     "name": "stdout",
     "output_type": "stream",
     "text": [
      "Episode: 0\n",
      "The avg. test reward for episode 0 is 21.15 with std of 9.916022388034428.\n",
      "Episode: 50\n",
      "The avg. test reward for episode 50 is 41.35 with std of 20.950596650215.\n",
      "Episode: 100\n",
      "The avg. test reward for episode 100 is 58.65 with std of 24.79168207282434.\n",
      "Episode: 150\n",
      "The avg. test reward for episode 150 is 95.3 with std of 38.70155035654256.\n",
      "Episode: 200\n",
      "The avg. test reward for episode 200 is 436.15 with std of 84.30200175559298.\n",
      "Episode: 250\n",
      "The avg. test reward for episode 250 is 486.2 with std of 26.97517377145141.\n",
      "Episode: 300\n",
      "The avg. test reward for episode 300 is 461.75 with std of 51.630296338487156.\n",
      "Episode: 350\n",
      "The avg. test reward for episode 350 is 289.4 with std of 45.21880139941792.\n",
      "Episode: 400\n",
      "The avg. test reward for episode 400 is 494.55 with std of 15.71456330923644.\n",
      "Episode: 450\n",
      "The avg. test reward for episode 450 is 362.65 with std of 130.95429546219552.\n",
      "Episode: 500\n",
      "The avg. test reward for episode 500 is 474.4 with std of 51.67630017716051.\n",
      "Episode: 550\n",
      "The avg. test reward for episode 550 is 500.0 with std of 0.0.\n",
      "Episode: 600\n",
      "The avg. test reward for episode 600 is 500.0 with std of 0.0.\n",
      "Episode: 650\n",
      "The avg. test reward for episode 650 is 398.45 with std of 75.695756155811.\n",
      "Episode: 700\n",
      "The avg. test reward for episode 700 is 388.4 with std of 121.44315542672628.\n",
      "Episode: 750\n",
      "The avg. test reward for episode 750 is 463.75 with std of 58.395954483166044.\n",
      "Episode: 800\n",
      "The avg. test reward for episode 800 is 500.0 with std of 0.0.\n",
      "Episode: 850\n",
      "The avg. test reward for episode 850 is 322.15 with std of 106.95385687295246.\n",
      "Episode: 900\n",
      "The avg. test reward for episode 900 is 354.85 with std of 101.56390845177236.\n",
      "Episode: 950\n",
      "The avg. test reward for episode 950 is 451.25 with std of 74.22390113703267.\n"
     ]
    },
    {
     "name": "stderr",
     "output_type": "stream",
     "text": [
      "\r",
      " 60%|██████    | 3/5 [06:13<04:56, 148.31s/it]"
     ]
    },
    {
     "name": "stdout",
     "output_type": "stream",
     "text": [
      "Episode: 0\n",
      "The avg. test reward for episode 0 is 19.25 with std of 6.832825184358224.\n",
      "Episode: 50\n",
      "The avg. test reward for episode 50 is 26.85 with std of 7.281998352100884.\n",
      "Episode: 100\n",
      "The avg. test reward for episode 100 is 83.8 with std of 23.22843085531177.\n",
      "Episode: 150\n",
      "The avg. test reward for episode 150 is 49.85 with std of 15.729828352528198.\n",
      "Episode: 200\n",
      "The avg. test reward for episode 200 is 77.55 with std of 29.49487243573025.\n",
      "Episode: 250\n",
      "The avg. test reward for episode 250 is 84.1 with std of 42.71873125456794.\n",
      "Episode: 300\n",
      "The avg. test reward for episode 300 is 198.85 with std of 68.76937908691629.\n",
      "Episode: 350\n",
      "The avg. test reward for episode 350 is 363.9 with std of 120.4279452618868.\n",
      "Episode: 400\n",
      "The avg. test reward for episode 400 is 406.45 with std of 80.03966204326453.\n",
      "Episode: 450\n",
      "The avg. test reward for episode 450 is 334.25 with std of 130.80285738469172.\n",
      "Episode: 500\n",
      "The avg. test reward for episode 500 is 466.75 with std of 53.96283443259815.\n",
      "Episode: 550\n",
      "The avg. test reward for episode 550 is 316.05 with std of 73.68749893977947.\n",
      "Episode: 600\n",
      "The avg. test reward for episode 600 is 307.45 with std of 88.55477118710205.\n",
      "Episode: 650\n",
      "The avg. test reward for episode 650 is 483.15 with std of 42.47855341228088.\n",
      "Episode: 700\n",
      "The avg. test reward for episode 700 is 412.05 with std of 60.75810645502376.\n",
      "Episode: 750\n",
      "The avg. test reward for episode 750 is 500.0 with std of 0.0.\n",
      "Episode: 800\n",
      "The avg. test reward for episode 800 is 417.65 with std of 94.76564514632926.\n",
      "Episode: 850\n",
      "The avg. test reward for episode 850 is 500.0 with std of 0.0.\n",
      "Episode: 900\n",
      "The avg. test reward for episode 900 is 494.3 with std of 17.286121600868135.\n",
      "Episode: 950\n",
      "The avg. test reward for episode 950 is 500.0 with std of 0.0.\n"
     ]
    },
    {
     "name": "stderr",
     "output_type": "stream",
     "text": [
      "\r",
      " 80%|████████  | 4/5 [09:58<02:58, 178.86s/it]"
     ]
    },
    {
     "name": "stdout",
     "output_type": "stream",
     "text": [
      "Episode: 0\n",
      "The avg. test reward for episode 0 is 20.85 with std of 7.404559406203721.\n",
      "Episode: 50\n",
      "The avg. test reward for episode 50 is 13.85 with std of 3.004579837514723.\n",
      "Episode: 100\n",
      "The avg. test reward for episode 100 is 19.75 with std of 2.426417111710186.\n",
      "Episode: 150\n",
      "The avg. test reward for episode 150 is 63.3 with std of 31.687694772576943.\n",
      "Episode: 200\n",
      "The avg. test reward for episode 200 is 68.4 with std of 32.47214190656354.\n",
      "Episode: 250\n",
      "The avg. test reward for episode 250 is 57.65 with std of 35.391065256643515.\n",
      "Episode: 300\n",
      "The avg. test reward for episode 300 is 42.95 with std of 13.503610628272721.\n",
      "Episode: 350\n",
      "The avg. test reward for episode 350 is 77.25 with std of 53.789287967029274.\n",
      "Episode: 400\n",
      "The avg. test reward for episode 400 is 38.45 with std of 9.557588608011962.\n",
      "Episode: 450\n",
      "The avg. test reward for episode 450 is 40.9 with std of 13.601102896456595.\n",
      "Episode: 500\n",
      "The avg. test reward for episode 500 is 71.5 with std of 58.200085910589515.\n",
      "Episode: 550\n",
      "The avg. test reward for episode 550 is 75.75 with std of 58.51912080679271.\n",
      "Episode: 600\n",
      "The avg. test reward for episode 600 is 77.55 with std of 29.903971308172434.\n",
      "Episode: 650\n",
      "The avg. test reward for episode 650 is 156.45 with std of 122.80654502102077.\n",
      "Episode: 700\n",
      "The avg. test reward for episode 700 is 75.05 with std of 20.83860599944248.\n",
      "Episode: 750\n",
      "The avg. test reward for episode 750 is 120.1 with std of 77.23011070819463.\n",
      "Episode: 800\n",
      "The avg. test reward for episode 800 is 122.45 with std of 90.69039364783903.\n",
      "Episode: 850\n",
      "The avg. test reward for episode 850 is 113.3 with std of 74.55809815170984.\n",
      "Episode: 900\n",
      "The avg. test reward for episode 900 is 88.55 with std of 30.95234239924339.\n",
      "Episode: 950\n",
      "The avg. test reward for episode 950 is 166.5 with std of 143.4062411473085.\n"
     ]
    },
    {
     "name": "stderr",
     "output_type": "stream",
     "text": [
      "100%|██████████| 5/5 [11:24<00:00, 136.95s/it]\n"
     ]
    },
    {
     "data": {
      "text/plain": [
       "Text(0.5, 1.0, 'PPO Learning Curve')"
      ]
     },
     "execution_count": 10,
     "metadata": {},
     "output_type": "execute_result"
    },
    {
     "data": {
      "image/png": "[encoded data removed]",
      "text/plain": [
       "<Figure size 640x480 with 1 Axes>"
      ]
     },
     "metadata": {},
     "output_type": "display_data"
    }
   ],
   "source": [
    "# Define parameter values\n",
    "env_name = 'CartPole-v1'\n",
    "num_train_ite = 1000\n",
    "num_seeds = 5 # fit model with 5 different seeds and plot average performance of 5 seeds\n",
    "num_epochs = 10 # how many times we iterate the entire training dataset passing through the training\n",
    "eval_freq = 50 # run evaluation of policy at each eval_freq trials\n",
    "eval_epi_index = num_train_ite//eval_freq # use to create x label for plot\n",
    "returns = np.zeros((num_seeds, eval_epi_index))\n",
    "gamma = 0.99 # discount factor\n",
    "clip_val = 0.2 # hyperparameter epsilon in clip objective\n",
    "\n",
    "# Create the environment.\n",
    "env = gym.make(env_name)\n",
    "nA = env.action_space.n\n",
    "nS = 4\n",
    "\n",
    "policy_lr = 5e-4 # policy network's learning rate\n",
    "baseline_lr = 1e-4\n",
    "\n",
    "for i in tqdm.tqdm(range(num_seeds)):\n",
    "    reward_means = []\n",
    "\n",
    "    # Define policy and value networks\n",
    "    policy_net = NeuralNet(nS, nA, torch.nn.Softmax())\n",
    "    policy_net_optimizer = optim.Adam(policy_net.parameters(), lr=policy_lr)\n",
    "    value_net = NeuralNet(nS, 1, torch.nn.ReLU())\n",
    "    value_net_optimizer = optim.Adam(value_net.parameters(), lr=baseline_lr)\n",
    "\n",
    "    for m in range(num_train_ite):\n",
    "        # Train networks with PPO\n",
    "        policy_net, value_net = train_PPO(env, policy_net, policy_net_optimizer, value_net, value_net_optimizer, num_epochs, clip_val=clip_val, gamma=gamma)\n",
    "        if m % eval_freq == 0:\n",
    "            print(\"Episode: {}\".format(m))\n",
    "            G = np.zeros(20)\n",
    "            for k in range(20):\n",
    "                g = evaluate_policy(env, policy_net)\n",
    "                G[k] = g\n",
    "\n",
    "            reward_mean = G.mean()\n",
    "            reward_sd = G.std()\n",
    "            print(\"The avg. test reward for episode {0} is {1} with std of {2}.\".format(m, reward_mean, reward_sd))\n",
    "            reward_means.append(reward_mean)\n",
    "    returns[i] = np.array(reward_means)\n",
    "\n",
    "# Plot the performance over iterations\n",
    "x = np.arange(eval_epi_index)*eval_freq\n",
    "avg_returns = np.mean(returns, axis=0)\n",
    "max_returns = np.max(returns, axis=0)\n",
    "min_returns = np.min(returns, axis=0)\n",
    "\n",
    "plt.fill_between(x, min_returns, max_returns, alpha=0.1)\n",
    "plt.plot(x, avg_returns, '-o', markersize=1)\n",
    "\n",
    "plt.xlabel('Episode', fontsize = 15)\n",
    "plt.ylabel('Return', fontsize = 15)\n",
    "\n",
    "plt.title(\"PPO Learning Curve\", fontsize = 24)\n",
    "\n"
   ]
  }
 ],
 "metadata": {
  "colab": {
   "provenance": []
  },
  "kernelspec": {
   "display_name": "Python 3 (ipykernel)",
   "language": "python",
   "name": "python3"
  },
  "language_info": {
   "codemirror_mode": {
    "name": "ipython",
    "version": 3
   },
   "file_extension": ".py",
   "mimetype": "text/x-python",
   "name": "python",
   "nbconvert_exporter": "python",
   "pygments_lexer": "ipython3",
   "version": "3.9.12"
  }
 },
 "nbformat": 4,
 "nbformat_minor": 1
}
